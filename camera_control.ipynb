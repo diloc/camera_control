{
 "cells": [
  {
   "cell_type": "markdown",
   "id": "c837debe",
   "metadata": {},
   "source": [
    "# <font color='black'> Camera Program</font>\n",
    "This program aimed to control DLSR and Blackfly GigE cameras .<br/>"
   ]
  },
  {
   "cell_type": "markdown",
   "id": "94a72e44",
   "metadata": {},
   "source": [
    "It starts by importing Python and custom modules"
   ]
  },
  {
   "cell_type": "code",
   "execution_count": null,
   "id": "8d1f4667",
   "metadata": {},
   "outputs": [],
   "source": [
    "import os\n",
    "import sys\n",
    "import sftp\n",
    "import time\n",
    "import getpass\n",
    "import winsound\n",
    "import numpy as np\n",
    "import pandas as pd\n",
    "from datetime import datetime\n",
    "\n",
    "import capture"
   ]
  },
  {
   "cell_type": "markdown",
   "id": "fc5f874e",
   "metadata": {},
   "source": [
    "### Directories \n",
    "Define the folder paths where is located the green fabric datasets"
   ]
  },
  {
   "cell_type": "code",
   "execution_count": null,
   "id": "c26b24ec",
   "metadata": {},
   "outputs": [],
   "source": [
    "local = 'F:/pheno/'                             # Images are stored in local PC\n",
    "server = '/data/phenomics-archive/whelanlab/'   # Images are stored in Remote server\n",
    "EXP = 'Exp' + '_' + expNumb + '_' + expName\n",
    "remote = server + EXP + '/'"
   ]
  },
  {
   "cell_type": "markdown",
   "id": "826a6f41",
   "metadata": {},
   "source": [
    "### Variable declaration \n",
    "Define the Experiment & camera ID details"
   ]
  },
  {
   "cell_type": "markdown",
   "id": "7f5d9390",
   "metadata": {},
   "source": [
    "- Provide for the SHH credentials including username and password. It uses the Secure File Transfer Protocol (SFTP) to transfer files between local computer and the server."
   ]
  },
  {
   "cell_type": "code",
   "execution_count": null,
   "id": "4ee147da",
   "metadata": {},
   "outputs": [],
   "source": [
    "#%% Login LIMS-HPC\n",
    "username = 'dlozano'\n",
    "df = pd.read_csv('pw.csv')\n",
    "password = df.columns.values[0]"
   ]
  },
  {
   "cell_type": "markdown",
   "id": "81cb3112",
   "metadata": {},
   "source": [
    "- Provide the experiment details:"
   ]
  },
  {
   "cell_type": "code",
   "execution_count": null,
   "id": "cfc682ee",
   "metadata": {},
   "outputs": [],
   "source": [
    "expNumb = '12'\n",
    "expName = 'RAO_dns'\n"
   ]
  },
  {
   "cell_type": "markdown",
   "id": "2c76c0a4",
   "metadata": {},
   "source": [
    "- Set the time for acquiring images. It includes the start, end and the period"
   ]
  },
  {
   "cell_type": "code",
   "execution_count": null,
   "id": "a5346a73",
   "metadata": {},
   "outputs": [],
   "source": [
    "acqStart = '05:20'      # Start time for acqusition\n",
    "acqFinish = '20:40'     # End time for acqusition\n",
    "acqPeriod = '15'        # Period in minutes\n",
    "\n",
    "strtme = int(acqStart.split(':')[0]) *60 + int(acqStart.split(':')[1])\n",
    "fshtme = int(acqFinish.split(':')[0]) *60 + int(acqFinish.split(':')[1])\n",
    "vecTime = np.arange(strtme, fshtme, int(acqPeriod))\n"
   ]
  },
  {
   "cell_type": "code",
   "execution_count": null,
   "id": "d2ae9213",
   "metadata": {},
   "outputs": [],
   "source": [
    "#%% Beep sound\n",
    "def beeping(t):\n",
    "    frequency = 2500  # Set Frequency To 2500 Hertz\n",
    "    duration = t * 1000  # Set Duration To 1000 ms == 1 second\n",
    "    winsound.Beep(frequency, duration)"
   ]
  },
  {
   "cell_type": "code",
   "execution_count": null,
   "id": "9a768641",
   "metadata": {},
   "outputs": [],
   "source": [
    "#%% Check membership\n",
    "flag = False\n",
    "flag = sftp.loginHPC(username, password)\n",
    "if flag == False:\n",
    "    sys.exit('Incorrect username or password')"
   ]
  },
  {
   "cell_type": "code",
   "execution_count": null,
   "id": "abe05e2a",
   "metadata": {},
   "outputs": [],
   "source": [
    "\n",
    "while True:\n",
    "    now = time.localtime()\n",
    "    year = now[0]\n",
    "    month = now[1]\n",
    "    day = now[2]\n",
    "    hour = now[3]\n",
    "    mins = now[4]\n",
    "    second = now[5]\n",
    "    \n",
    "    yy = str(format(year, '04d'))\n",
    "    mon = str(format(month, '02d'))\n",
    "    dd =  str(format(day, '02d'))\n",
    "    hh = str(format(hour, '02d'))\n",
    "    mm = str(format(mins, '02d'))\n",
    "    sec = str(format(second, '02d'))\n",
    "    date = np.str(yy)+'-'+np.str(mon)+'-'+np.str(dd)+'-'+np.str(hh)+'-'+np.str(mm)+'-'+np.str(sec)\n",
    "\n",
    "\n",
    "    minstart = vecTime[np.where(vecTime == (hour*60+mins))]\n",
    "    closeInd = np.argmin(np.abs(vecTime - (hour*60+mins)))\n",
    "    closeTime = vecTime[closeInd]\n",
    "\n",
    "    if closeTime < (hour*60+mins):\n",
    "        closeTime = vecTime[closeInd + 1]\n",
    "        \n",
    "    if (len(minstart)>0):\n",
    "        capture.capture(local, date)\n",
    "        closeTime = vecTime[closeInd + 2]\n",
    "        \n",
    "        print(date, '      ', 'Next taken in ', acqPeriod , 'mins')\n",
    "        print(' ')\n",
    "        print('Acquisition is running')\n",
    "        time.sleep(60)\n",
    "\n",
    "    if (closeTime - (hour*60+mins)) <= 1:\n",
    "        beeping(10)\n",
    "        time.sleep(1)\n",
    "    \n",
    "    if (closeTime - (hour*60+mins))% 5 == 0:\n",
    "        time.sleep(40)\n",
    "        print(date, '      ', 'Next taken in ', closeTime - (hour*60+mins), 'mins')  \n",
    "    \n",
    "        \n",
    "    if ((hour*60+mins) > np.max(vecTime) + 10*60):\n",
    "        print('No sever connection')\n",
    "        sftp.upload(username, password, local, remote, expNumb)"
   ]
  },
  {
   "cell_type": "code",
   "execution_count": null,
   "id": "4d6eb769",
   "metadata": {},
   "outputs": [],
   "source": []
  },
  {
   "cell_type": "code",
   "execution_count": null,
   "id": "aea10e16",
   "metadata": {},
   "outputs": [],
   "source": []
  }
 ],
 "metadata": {
  "kernelspec": {
   "display_name": "Python 3 (ipykernel)",
   "language": "python",
   "name": "python3"
  },
  "language_info": {
   "codemirror_mode": {
    "name": "ipython",
    "version": 3
   },
   "file_extension": ".py",
   "mimetype": "text/x-python",
   "name": "python",
   "nbconvert_exporter": "python",
   "pygments_lexer": "ipython3",
   "version": "3.10.9"
  }
 },
 "nbformat": 4,
 "nbformat_minor": 5
}
